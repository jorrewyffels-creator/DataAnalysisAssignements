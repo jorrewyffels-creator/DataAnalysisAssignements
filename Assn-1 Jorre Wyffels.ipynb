{
 "cells": [
  {
   "cell_type": "markdown",
   "id": "746f7598-3e3a-46a3-a2ed-bbc426f36016",
   "metadata": {},
   "source": [
    "# Assn-01:  My First Jupyter Notebook\n",
    "\n",
    "**Goal**: Use Jupyter to create an empty notebook, then reproduce the contents of this notebook *as closely as possible*."
   ]
  },
  {
   "cell_type": "markdown",
   "id": "ae532589-fd43-458e-a0c5-8234199bd01e",
   "metadata": {},
   "source": [
    "---\n",
    "\n",
    "## (1) Text\n",
    "\n",
    "It is easy to write in Markdown using *italics* and **bold**.\n",
    "\n",
    "It is also easy to ~~cross out~~ words.\n",
    "\n",
    "マークダウンの欄では日本語もできます"
   ]
  },
  {
   "cell_type": "markdown",
   "id": "beddd2dc-8dad-4a87-bc24-7d4372c01e25",
   "metadata": {},
   "source": [
    "---\n",
    "\n",
    "## (2) Headings\n",
    "\n",
    "## This is a Heading (Level 2)\n",
    "### This is a Heading (Level 3)\n",
    "#### This is a Heading (Level 4)\n"
   ]
  },
  {
   "cell_type": "markdown",
   "id": "14d6a92e-2829-4671-93c5-2908affdd339",
   "metadata": {},
   "source": [
    "___\n",
    "\n",
    "## (3) Decorations\n",
    "\n",
    "Type \"___\" to display a horizontal line:\n",
    "\n",
    "___"
   ]
  },
  {
   "cell_type": "markdown",
   "id": "96cffdaa-9a7f-40c1-9758-7c9863c2c658",
   "metadata": {},
   "source": [
    "\n",
    "<a id=\"lists\"></a>\n",
    "## (4) Lists\n",
    "\n",
    "1. This is the first item\n",
    "2. This is the second item\n",
    "3. This is the third item\n",
    "\n",
    "- This is the first item\n",
    "- This is the second item\n",
    "- This is the third item\n",
    "\n"
   ]
  },
  {
   "cell_type": "markdown",
   "id": "5c075967-c247-4ae1-9922-4fd77970f8d6",
   "metadata": {},
   "source": [
    "---\n",
    "\n",
    "## (5) Tables\n",
    "\n",
    "This is a table:\n",
    "\n",
    "| Row | Column 1     | Column 2     |\n",
    "|-----|--------------|--------------|\n",
    "| 1   | Cell (1,1)   | Cell (1,2)   |\n",
    "| 2   | Cell (2,1)   | Cell (2,2)   |\n",
    "| 3   | Cell (3,1)   | Cell (3,2)   |\n"
   ]
  },
  {
   "cell_type": "markdown",
   "id": "bc587b83-3648-48db-9dca-f6fba6b9bb41",
   "metadata": {},
   "source": [
    "---\n",
    "\n",
    "## (6) Links\n",
    "\n",
    "Here is a link to a Markdown guide:\n",
    "https://guides.github.com/features/mastering-markdown/\n",
    "\n",
    "Here is the same [link](https://guides.github.com/features/mastering-markdown/) (with the web address hidden)\n",
    "\n",
    "\n",
    "\n"
   ]
  },
  {
   "attachments": {},
   "cell_type": "markdown",
   "id": "2bdff63c-8efe-4b75-a174-4774a18ee2de",
   "metadata": {},
   "source": [
    "___\n",
    "\n",
    "## (7) Images\n",
    "\n",
    "Here is this course's logo: \"logo.jpg\"\n",
    "\n",
    "![logo](logo.jpg)\n",
    "\n"
   ]
  },
  {
   "cell_type": "markdown",
   "id": "c0b9a83f-5498-44aa-bfa7-6b59f19943d3",
   "metadata": {},
   "source": [
    "---\n",
    "\n",
    "## (8) Python\n",
    "\n",
    "Python commands can be run directly in Jupyter notebooks.\n"
   ]
  },
  {
   "cell_type": "code",
   "execution_count": 2,
   "id": "9ab91337-b7d9-4094-bb91-e585a789eaf9",
   "metadata": {},
   "outputs": [
    {
     "name": "stdout",
     "output_type": "stream",
     "text": [
      "Hello world!\n"
     ]
    }
   ],
   "source": [
    "print('Hello world!')\n"
   ]
  },
  {
   "cell_type": "markdown",
   "id": "39fe395a-ec54-4914-8988-edf594281576",
   "metadata": {},
   "source": [
    "___"
   ]
  },
  {
   "cell_type": "markdown",
   "id": "9ff04f03-6f19-4b99-b760-80af84ff8b39",
   "metadata": {},
   "source": [
    "\n",
    "\n",
    "## Bonus!\n",
    "Create a [link](#4-lists)\n",
    " that will take you to the \"Lists\" section above.\n",
    "\n",
    "\n"
   ]
  }
 ],
 "metadata": {
  "kernelspec": {
   "display_name": "Python [conda env:base] *",
   "language": "python",
   "name": "conda-base-py"
  },
  "language_info": {
   "codemirror_mode": {
    "name": "ipython",
    "version": 3
   },
   "file_extension": ".py",
   "mimetype": "text/x-python",
   "name": "python",
   "nbconvert_exporter": "python",
   "pygments_lexer": "ipython3",
   "version": "3.13.5"
  }
 },
 "nbformat": 4,
 "nbformat_minor": 5
}
