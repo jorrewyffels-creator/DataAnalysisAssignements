{
 "cells": [
  {
   "cell_type": "markdown",
   "metadata": {},
   "source": [
    "___\n",
    "\n",
    "# <span style=\"color:blue\">Correlation between lifestyle factors and grades trough stress level</span>\n",
    "\n",
    "\n",
    "### Overview:\n",
    "\n",
    "* **Name**:  <span style=\"color:blue\">Jorre Wyffels</span>\n",
    "* **Student number**:  <span style=\"color:blue\">B990374161</span>\n",
    "\n",
    "<br>"
   ]
  },
  {
   "cell_type": "markdown",
   "metadata": {},
   "source": [
    "### Purpose:\n",
    "\n",
    "* <span style=\"color:blue\">The purpose of my final project is to see how lifestyle factors relate to stress level, and to furthermore also relate both lifestyle factor and stress level to student grades. The main question will be wether lifestyle factors can predict grades trough stress level.</span>\n",
    "* <span style=\"color:blue\">The key **dependent variable** (DVs) is stress in the first analysis, and then student grades in the second. </span>\n",
    "* <span style=\"color:blue\">The key **independent variables** (IVs) are daily study hours, daily extracurricular hours, daily hours of sleep, daily social hours and daily hours of physical activity. In the second analysis, stress level can also become an IV to correlate to/predict grades</span>\n",
    "* <span style=\"color:blue\">The dataset contains data of two thousand students (n=2000). All cases included in the dataset have values for all 8 variables (IVs and DVs)</span>\n",
    "* <span style=\"color:blue\">{Use approximately 2-5 sentences as separate points.}</span>\n",
    "\n",
    "<br>"
   ]
  },
  {
   "cell_type": "markdown",
   "metadata": {},
   "source": [
    "### Dataset source:\n",
    "\n",
    "<span style=\"color:blue\">The dataset is called [\"Lifestyle Factors and Their Impact on Students\"](https://www.kaggle.com/datasets/charlottebennett1234/lifestyle-factors-and-their-impact-on-students/data) and was published on kaggle.com. It is a oractice dataset generated to provide plausible data. </span>\n",
    "\n",
    "<span style=\"color:blue\">Lifestyle factors and their impact on students. (2025, April 10). Kaggle. https://www.kaggle.com/datasets/charlottebennett1234/lifestyle-factors-and-their-impact-on-students/data</span>\n",
    "\n",
    "\n",
    "\n",
    "<br>\n",
    "<br>\n",
    "<br>\n",
    "<br>"
   ]
  }
 ],
 "metadata": {
  "kernelspec": {
   "display_name": "Python [conda env:base] *",
   "language": "python",
   "name": "conda-base-py"
  },
  "language_info": {
   "codemirror_mode": {
    "name": "ipython",
    "version": 3
   },
   "file_extension": ".py",
   "mimetype": "text/x-python",
   "name": "python",
   "nbconvert_exporter": "python",
   "pygments_lexer": "ipython3",
   "version": "3.13.5"
  }
 },
 "nbformat": 4,
 "nbformat_minor": 4
}
