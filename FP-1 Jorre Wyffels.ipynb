{
 "cells": [
  {
   "cell_type": "markdown",
   "metadata": {},
   "source": [
    "# FP-1:  Final Project Proposal\n",
    "\n",
    "\n",
    "Instructions:\n",
    "- Find a dataset as described in class\n",
    "- Fill in all <span style=\"color:blue\">blue text fields</span> below;  also follow the Example Proposal below\n",
    "- Delete this Markdown cell and all Example Proposal Markdown cells\n",
    "\n"
   ]
  },
  {
   "cell_type": "markdown",
   "metadata": {},
   "source": [
    "___\n",
    "\n",
    "# <span style=\"color:blue\">{Final Project Title}</span>\n",
    "\n",
    "\n",
    "### Overview:\n",
    "\n",
    "* **Name**:  <span style=\"color:blue\">{Enter your name here}</span>\n",
    "* **Student number**:  <span style=\"color:blue\">{Enter your student number here}</span>\n",
    "\n",
    "<br>"
   ]
  },
  {
   "cell_type": "markdown",
   "metadata": {},
   "source": [
    "### Purpose:\n",
    "\n",
    "* <span style=\"color:blue\">{Enter a purpose statement.}</span>\n",
    "* <span style=\"color:blue\">{Identify key **dependent** variable(s) (DVs).}</span>\n",
    "* <span style=\"color:blue\">{Identify key **independent** variable(s) (IVs).}</span>\n",
    "* <span style=\"color:blue\">{Specify how large the dataset is. How many DVs and IVs are there? How many cases are there?}</span>\n",
    "* <span style=\"color:blue\">{Use approximately 2-5 sentences as separate points.}</span>\n",
    "\n",
    "<br>"
   ]
  },
  {
   "cell_type": "markdown",
   "metadata": {},
   "source": [
    "### Dataset source:\n",
    "\n",
    "<span style=\"color:blue\">{Describe your dataset source(s). Include link(s).}</span>\n",
    "\n",
    "<span style=\"color:blue\">{If the dataset has been published, provide relevant reference(s).}</span>\n",
    "\n",
    "<span style=\"color:blue\">{Do <b>NOT</b> use datasets from any Python package including `numpy`, `scipy`, `matplotlib`, `sklearn`, `pandas`, etc.}</span>\n",
    "\n",
    "<span style=\"color:blue\">{Do <b>NOT</b> use datasets from websites that require registration (paid or free). The dataset(s) must be downloadable from the internet for free, without any registration required.}</span>\n",
    "\n",
    "<br>\n",
    "<br>\n",
    "<br>\n",
    "<br>"
   ]
  },
  {
   "cell_type": "markdown",
   "metadata": {},
   "source": [
    "___\n",
    "\n",
    "### <span style=\"color:red\">Example proposal:</span>\n",
    "\n",
    "<br>\n",
    "\n",
    "# Analysis of factors contributing to red wine quality\n",
    "\n",
    "\n",
    "* **Name**:  Taro KYODAI\n",
    "* **Student number**:  123456789\n",
    "\n",
    "<br>"
   ]
  },
  {
   "cell_type": "markdown",
   "metadata": {},
   "source": [
    "### Purpose:\n",
    "\n",
    "* The purpose of this Final Project is to determine the factors that contribute to red wine quality.\n",
    "* The key **dependent variable** (DV) is wine quality, an integer between 0 and 10, as judged by experts.\n",
    "* Key **independent variables** (IVs) include:\n",
    "    * fixed acidity\n",
    "    * volatile acidity\n",
    "    * citric acid\n",
    "    * residual sugar\n",
    "    * chlorides\n",
    "    * free sulfur dioxide\n",
    "    * total sulfur dioxide\n",
    "    * density\n",
    "    * pH\n",
    "    * sulphates\n",
    "    * alcohol\n",
    "* This dataset contains 1599 cases (i.e., 1599 different red wines). Each wine has values for all IVs as well as the DV.\n",
    "<br>"
   ]
  },
  {
   "cell_type": "markdown",
   "metadata": {},
   "source": [
    "### Dataset source:\n",
    "\n",
    "The data come from the [wine quality](https://archive.ics.uci.edu/ml/datasets/Wine+Quality) dataset from the [UCI Machine Learning repository](https://archive.ics.uci.edu/ml/index.php):\n",
    "\n",
    "The data are available for download [here](https://archive.ics.uci.edu/ml/machine-learning-databases/wine-quality/).\n",
    "\n",
    "Analyses of this dataset have been published previously in Cortez et al. (2009).\n",
    "\n",
    "\n",
    "#### References:\n",
    "\n",
    "P. Cortez, A. Cerdeira, F. Almeida, T. Matos and J. Reis (2009). Modeling wine preferences by data mining from physicochemical properties. In: Decision Support Systems, Elsevier, 47(4):547-553.\n",
    "doi: [10.1016/j.dss.2009.05.016](https://doi.org/10.1016/j.dss.2009.05.016)\n"
   ]
  }
 ],
 "metadata": {
  "kernelspec": {
   "display_name": "Python 3 (ipykernel)",
   "language": "python",
   "name": "python3"
  },
  "language_info": {
   "codemirror_mode": {
    "name": "ipython",
    "version": 3
   },
   "file_extension": ".py",
   "mimetype": "text/x-python",
   "name": "python",
   "nbconvert_exporter": "python",
   "pygments_lexer": "ipython3",
   "version": "3.12.7"
  }
 },
 "nbformat": 4,
 "nbformat_minor": 4
}
