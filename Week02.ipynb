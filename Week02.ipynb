{
 "cells": [
  {
   "cell_type": "markdown",
   "id": "1251635e-0dce-4a58-8140-669f486d2b65",
   "metadata": {},
   "source": [
    "# Math\n",
    "\n",
    "(use the `print` function to print output to the screen)\n",
    "\n",
    "### Simple arithmetic"
   ]
  },
  {
   "cell_type": "code",
   "execution_count": 1,
   "id": "0dadbf8b-957d-4cbf-8c30-091e34148462",
   "metadata": {},
   "outputs": [
    {
     "name": "stdout",
     "output_type": "stream",
     "text": [
      "3\n",
      "-4\n",
      "20\n",
      "0.8\n",
      "9\n",
      "5.0\n"
     ]
    }
   ],
   "source": [
    "print( 1 + 2 )     # addition\n",
    "print( 1 - 5 )     # subtraction\n",
    "print( 4 * 5 )     # multiplication\n",
    "print( 4 / 5 )     # division\n",
    "print( 3 ** 2 )    # exponent\n",
    "print( 25 ** 0.5 ) # square root"
   ]
  },
  {
   "cell_type": "markdown",
   "id": "707f9fbf-cf2c-4f0f-a627-2d17fe08f5c4",
   "metadata": {},
   "source": [
    "### Order of operations\n",
    "\n",
    "- Python follows common order-of-operation rules (e.g. multiplication before addition)\n",
    "- Use round brackets `(  )` to override order-of-operation rules"
   ]
  },
  {
   "cell_type": "code",
   "execution_count": 2,
   "id": "55f137ce-a3d6-454d-b0e1-6684564fd980",
   "metadata": {},
   "outputs": [
    {
     "name": "stdout",
     "output_type": "stream",
     "text": [
      "7\n",
      "7\n",
      "9\n"
     ]
    }
   ],
   "source": [
    "print( 1 + 2 * 3 )\n",
    "print( 1 + (2 * 3) )\n",
    "print( (1 + 2) * 3 )"
   ]
  },
  {
   "cell_type": "markdown",
   "id": "fb39cc68-5be5-4b0d-a462-b6cfa02dbada",
   "metadata": {},
   "source": [
    "# Variables\n",
    "\n",
    "A variable is a symbol that contains data."
   ]
  },
  {
   "cell_type": "code",
   "execution_count": 3,
   "id": "697e4354-891a-491a-aea4-922f15076369",
   "metadata": {},
   "outputs": [
    {
     "name": "stdout",
     "output_type": "stream",
     "text": [
      "1\n",
      "10\n",
      "10001\n"
     ]
    }
   ],
   "source": [
    "x = 1\n",
    "y = 10\n",
    "z = 10001\n",
    "print( x )\n",
    "print( y )\n",
    "print( z )"
   ]
  },
  {
   "cell_type": "markdown",
   "id": "47d78c7e-8504-47ba-afd5-77b8853b77a9",
   "metadata": {},
   "source": [
    "A single `print` statement can be used to display several variables."
   ]
  },
  {
   "cell_type": "code",
   "execution_count": 4,
   "id": "aa49405d-022c-43ec-935d-e6438b802088",
   "metadata": {},
   "outputs": [
    {
     "name": "stdout",
     "output_type": "stream",
     "text": [
      "1 10 10001\n"
     ]
    }
   ],
   "source": [
    "print(x, y, z)"
   ]
  },
  {
   "cell_type": "markdown",
   "id": "147dd2a2-c5ac-443f-a322-ad094ac989f8",
   "metadata": {},
   "source": [
    "The results of a variable calculation can be saved in another variable."
   ]
  },
  {
   "cell_type": "code",
   "execution_count": 5,
   "id": "32829693-72c0-487c-b1d1-c44995f1542b",
   "metadata": {},
   "outputs": [
    {
     "name": "stdout",
     "output_type": "stream",
     "text": [
      "11\n"
     ]
    }
   ],
   "source": [
    "x = 1\n",
    "y = 10\n",
    "a = x + y\n",
    "print( a )"
   ]
  },
  {
   "cell_type": "markdown",
   "id": "df6d552b-cf25-4789-81c8-f4402fac6eb7",
   "metadata": {},
   "source": [
    "### Dynamic typing  (type of variable)\n",
    "\n",
    "- Python uses dynamic typing, which means that the variable type can be easily changed\n",
    "- You can use the `type` command to check the variable type"
   ]
  },
  {
   "cell_type": "code",
   "execution_count": 6,
   "id": "1645667e-d76b-4ebd-855b-937fd074511e",
   "metadata": {},
   "outputs": [
    {
     "name": "stdout",
     "output_type": "stream",
     "text": [
      "2 <class 'int'>\n",
      "2.7 <class 'float'>\n",
      "Hello! <class 'str'>\n"
     ]
    }
   ],
   "source": [
    "x = 2\n",
    "print( x, type(x) )\n",
    "\n",
    "x = 2.7\n",
    "print( x, type(x) )\n",
    "\n",
    "x = \"Hello!\"\n",
    "print( x, type(x) )"
   ]
  },
  {
   "cell_type": "markdown",
   "id": "f4c2d25a-0531-4fca-bc46-af221af23561",
   "metadata": {},
   "source": [
    "### Variable names\n",
    "\n",
    "By convention:\n",
    "\n",
    "- Variable names should contain only lower-case letters (abcde... NOT ABCDE...)\n",
    "- Multi-name variables should be separated with underscores `_`\n",
    "- Must start with a letter (not a number)"
   ]
  },
  {
   "cell_type": "code",
   "execution_count": 7,
   "id": "711d5b77-540f-4eb8-95bb-36cfb10290b5",
   "metadata": {},
   "outputs": [
    {
     "name": "stdout",
     "output_type": "stream",
     "text": [
      "1 10 200\n"
     ]
    }
   ],
   "source": [
    "x0 = 1\n",
    "x1 = 10\n",
    "x2= 200\n",
    "print(x0, x1, x2)"
   ]
  },
  {
   "cell_type": "code",
   "execution_count": 8,
   "id": "611a7735-404b-487f-8191-bfbdc4aab786",
   "metadata": {},
   "outputs": [
    {
     "name": "stdout",
     "output_type": "stream",
     "text": [
      "100\n"
     ]
    }
   ],
   "source": [
    "x99991180918019810981098 = 100\n",
    "\n",
    "print( x99991180918019810981098 )"
   ]
  },
  {
   "cell_type": "code",
   "execution_count": 9,
   "id": "c88631e0-165f-43e2-90c8-89b3c7859d85",
   "metadata": {},
   "outputs": [
    {
     "name": "stdout",
     "output_type": "stream",
     "text": [
      "100\n",
      "1000\n",
      "10\n",
      "200\n"
     ]
    }
   ],
   "source": [
    "abc = 100\n",
    "my_favorite_ice_cream = 10\n",
    "ABC = 1000   # not an error, but not Python convention\n",
    "myFavoriteIceCream = 200  # not an error, but not Python convention\n",
    "\n",
    "print( abc )\n",
    "print( ABC )\n",
    "print( my_favorite_ice_cream )\n",
    "print( myFavoriteIceCream )"
   ]
  },
  {
   "cell_type": "markdown",
   "id": "52d92357-cf61-47d4-934d-73121903f332",
   "metadata": {},
   "source": [
    "# Lists and tuples\n",
    "\n",
    "- A list contains multiple variables in a sequence\n",
    "- A tuple is a list that cannot be changed"
   ]
  },
  {
   "cell_type": "code",
   "execution_count": 10,
   "id": "2df0165c-6c41-4401-9c55-62cf2733f1cb",
   "metadata": {},
   "outputs": [
    {
     "name": "stdout",
     "output_type": "stream",
     "text": [
      "[0, 5, 8] <class 'list'>\n",
      "(0, 5, 8) <class 'tuple'>\n"
     ]
    }
   ],
   "source": [
    "x = [0, 5, 8]\n",
    "y = (0, 5, 8)\n",
    "\n",
    "print( x, type(x) )\n",
    "print( y, type(y) )"
   ]
  },
  {
   "cell_type": "code",
   "execution_count": 11,
   "id": "72685f27-5ae2-49c8-99f3-aee68bc1ff7c",
   "metadata": {},
   "outputs": [
    {
     "name": "stdout",
     "output_type": "stream",
     "text": [
      "0\n",
      "5\n",
      "8\n"
     ]
    }
   ],
   "source": [
    "x = [0, 5, 8]\n",
    "\n",
    "print( x[0] )  # first element of x;  \"zero indexing\"\n",
    "print( x[1] )  # second element of x\n",
    "print( x[2] )  # third element of x"
   ]
  },
  {
   "cell_type": "code",
   "execution_count": 12,
   "id": "26edcc5d-3fd1-4614-998a-43e0eec2daaa",
   "metadata": {},
   "outputs": [
    {
     "name": "stdout",
     "output_type": "stream",
     "text": [
      "8\n",
      "5\n",
      "0\n"
     ]
    }
   ],
   "source": [
    "print( x[-1] )  # last element\n",
    "print( x[-2] )  # second last element\n",
    "print( x[-3] )  # third last element"
   ]
  },
  {
   "cell_type": "markdown",
   "id": "6be2ebbd-812c-4aa6-ab8d-1af4382cb316",
   "metadata": {},
   "source": [
    "List elements can be changed:"
   ]
  },
  {
   "cell_type": "code",
   "execution_count": 13,
   "id": "512386b1-34b3-48af-8c9e-5f90d4ff8845",
   "metadata": {},
   "outputs": [
    {
     "name": "stdout",
     "output_type": "stream",
     "text": [
      "[2000, -5, 100]\n"
     ]
    }
   ],
   "source": [
    "x    = [0, 10, 100]\n",
    "x[0] = 2000\n",
    "x[1] = -5\n",
    "\n",
    "print( x )"
   ]
  },
  {
   "cell_type": "code",
   "execution_count": 14,
   "id": "2b2ffbce-a853-477d-b63c-34282f2df840",
   "metadata": {},
   "outputs": [
    {
     "name": "stdout",
     "output_type": "stream",
     "text": [
      "0\n"
     ]
    }
   ],
   "source": [
    "x = (0, 10, 100)\n",
    "print( x[0] )"
   ]
  },
  {
   "cell_type": "markdown",
   "id": "17657a6f-3880-4c5b-a530-c36c04d8f237",
   "metadata": {},
   "source": [
    "# Arrays\n",
    "\n",
    "Creating arrays is usually done in Python using the NumPy package \n",
    "\n",
    "NumPy : Numerical Python\n",
    "\n",
    "- A package is like a library, containing several programming tools like functions and variables.\n",
    "- Packages must be accessed using the \"import\" command in Python\n",
    "\n"
   ]
  },
  {
   "cell_type": "code",
   "execution_count": 15,
   "id": "c0a3aba1-d5fb-4a61-9099-6252b1968a97",
   "metadata": {},
   "outputs": [
    {
     "name": "stdout",
     "output_type": "stream",
     "text": [
      "[0 5 8] <class 'numpy.ndarray'>\n"
     ]
    }
   ],
   "source": [
    "import numpy\n",
    "\n",
    "x = numpy.array( [0, 5, 8] )\n",
    "\n",
    "print( x, type(x) )   # n-dimensional array"
   ]
  },
  {
   "cell_type": "code",
   "execution_count": 16,
   "id": "8ff92941-347e-4cc6-99ee-f6c18a320a20",
   "metadata": {},
   "outputs": [
    {
     "name": "stdout",
     "output_type": "stream",
     "text": [
      "0\n",
      "5\n"
     ]
    }
   ],
   "source": [
    "print( x[0] )\n",
    "print( x[1] )"
   ]
  },
  {
   "cell_type": "code",
   "execution_count": 17,
   "id": "9438aed5-4db5-4603-8d1f-8798712bd87c",
   "metadata": {},
   "outputs": [
    {
     "name": "stdout",
     "output_type": "stream",
     "text": [
      "[1 6 9]\n",
      "[-1  4  7]\n",
      "[ 0 10 16]\n",
      "[0.  2.5 4. ]\n",
      "[ 0 25 64]\n"
     ]
    }
   ],
   "source": [
    "print( x + 1 )\n",
    "print( x - 1 )\n",
    "print( x * 2 )\n",
    "print( x / 2 )\n",
    "print( x ** 2 )"
   ]
  },
  {
   "cell_type": "code",
   "execution_count": 18,
   "id": "90097447-3561-46d4-a4dc-0a7bd466dfd3",
   "metadata": {},
   "outputs": [
    {
     "name": "stdout",
     "output_type": "stream",
     "text": [
      "[10 11  5]\n"
     ]
    }
   ],
   "source": [
    "import numpy as np\n",
    "\n",
    "a = np.array( [0, 1, 5] )\n",
    "b = np.array( [10, 10, 0] )\n",
    "\n",
    "print( a + b )"
   ]
  },
  {
   "cell_type": "code",
   "execution_count": 19,
   "id": "ce6efe65-2c81-426d-973e-9bc7d3931464",
   "metadata": {},
   "outputs": [
    {
     "name": "stdout",
     "output_type": "stream",
     "text": [
      "[0, 1, 5, 10, 10, 0]\n"
     ]
    }
   ],
   "source": [
    "c = [0, 1, 5]\n",
    "d = [10, 10, 0]\n",
    "\n",
    "print( c + d )"
   ]
  },
  {
   "cell_type": "markdown",
   "id": "2f7f8250-3b75-4b5d-a2a1-b46e4109c9fe",
   "metadata": {},
   "source": [
    "# Functions\n",
    "\n",
    "A function accepts input variables (called \"input arguments\"), performs calculations, and then returns output variables (called \"output arguments\") to the caller."
   ]
  },
  {
   "cell_type": "code",
   "execution_count": 20,
   "id": "1a9eb422-f2da-40be-a730-65d636dc1b41",
   "metadata": {},
   "outputs": [
    {
     "name": "stdout",
     "output_type": "stream",
     "text": [
      "11\n",
      "11\n"
     ]
    }
   ],
   "source": [
    "def my_function(x):\n",
    "    y = x + 1\n",
    "    return y\n",
    "\n",
    "print( my_function(10) )\n",
    "\n",
    "a = my_function(10)\n",
    "print( a )"
   ]
  },
  {
   "cell_type": "markdown",
   "id": "5c7780e9-0cd4-4664-ada9-543975de074b",
   "metadata": {},
   "source": [
    "- `def` : define function\n",
    "- `my_function` is the function name (should be named like variable names by convention)\n",
    "- `x` : input argument\n",
    "- `y` : output argument\n",
    "- `return` indicates that the function is finished"
   ]
  },
  {
   "cell_type": "code",
   "execution_count": 21,
   "id": "83ebd0d3-2dac-45f2-9e51-d2bb4790ad8d",
   "metadata": {},
   "outputs": [
    {
     "name": "stdout",
     "output_type": "stream",
     "text": [
      "3 100\n"
     ]
    }
   ],
   "source": [
    "def my_function(x, y):\n",
    "    z = x + y\n",
    "    q = 100\n",
    "    return z, q\n",
    "\n",
    "a,b = my_function(1, 2)\n",
    "print(a, b)"
   ]
  }
 ],
 "metadata": {
  "kernelspec": {
   "display_name": "Python 3 (ipykernel)",
   "language": "python",
   "name": "python3"
  },
  "language_info": {
   "codemirror_mode": {
    "name": "ipython",
    "version": 3
   },
   "file_extension": ".py",
   "mimetype": "text/x-python",
   "name": "python",
   "nbconvert_exporter": "python",
   "pygments_lexer": "ipython3",
   "version": "3.11.13"
  }
 },
 "nbformat": 4,
 "nbformat_minor": 5
}
